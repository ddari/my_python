{
 "cells": [
  {
   "cell_type": "markdown",
   "metadata": {},
   "source": [
    "# Модуль time"
   ]
  },
  {
   "cell_type": "raw",
   "metadata": {},
   "source": [
    "https://docs.python.org/3/library/time.html"
   ]
  },
  {
   "cell_type": "markdown",
   "metadata": {},
   "source": [
    "Используется для решения задач, связанных со временем"
   ]
  },
  {
   "cell_type": "markdown",
   "metadata": {},
   "source": [
    "Функция time.time() возвращает число секунд, прошедших с начала эпохи. Для операционных систем Unix 1 января 1970, 00:00:00 (UTC) - начало эпохи.\n"
   ]
  },
  {
   "cell_type": "code",
   "execution_count": 1,
   "metadata": {},
   "outputs": [
    {
     "name": "stdout",
     "output_type": "stream",
     "text": [
      "Прошло 1601374578.5708144 секунд с начала эпохи\n"
     ]
    }
   ],
   "source": [
    "import time\n",
    "time= time.time()\n",
    "print(\"Прошло\",time,\"секунд с начала эпохи\")"
   ]
  },
  {
   "cell_type": "markdown",
   "metadata": {},
   "source": [
    "## time.ctime()\n"
   ]
  },
  {
   "cell_type": "markdown",
   "metadata": {},
   "source": [
    "Функция time.ctime() принимает в качестве аргумента количество секунд, прошедших с начала эпохи, и возвращает строку, представляющую собой местное время."
   ]
  },
  {
   "cell_type": "code",
   "execution_count": 2,
   "metadata": {
    "scrolled": true
   },
   "outputs": [
    {
     "name": "stdout",
     "output_type": "stream",
     "text": [
      "Местное время Tue Sep 29 15:16:27 2020\n"
     ]
    }
   ],
   "source": [
    "import time\n",
    "local=time.ctime()\n",
    "print(\"Местное время\",local)"
   ]
  },
  {
   "cell_type": "markdown",
   "metadata": {},
   "source": [
    "Через 500 секунд будет:"
   ]
  },
  {
   "cell_type": "code",
   "execution_count": 3,
   "metadata": {},
   "outputs": [
    {
     "name": "stdout",
     "output_type": "stream",
     "text": [
      "Через 500 секунд Tue Sep 29 15:24:51 2020\n"
     ]
    }
   ],
   "source": [
    "print(\"Через 500 секунд\",time.ctime(time.time()+500))"
   ]
  },
  {
   "cell_type": "markdown",
   "metadata": {},
   "source": [
    "## Монотонные часы monotic()"
   ]
  },
  {
   "cell_type": "markdown",
   "metadata": {},
   "source": [
    "С помощью функцией monotic() можно избежать неожиданных поведений результатов при попытках измерений длительности временных промежутков, что может быть вызвано тем, что значения, возвращаемы функцией time(), основаны на показаниях системных часов, которые могут быть изменены пользователем или системными службами."
   ]
  },
  {
   "cell_type": "markdown",
   "metadata": {},
   "source": [
    "Последовательные вызовы функции monotonic() возвращают только возрастающие значения."
   ]
  },
  {
   "cell_type": "code",
   "execution_count": 4,
   "metadata": {},
   "outputs": [
    {
     "name": "stdout",
     "output_type": "stream",
     "text": [
      "начало в :  105948.41\n",
      "конец в : 105948.62\n",
      "пауза была : 0.22  c\n"
     ]
    }
   ],
   "source": [
    "start=time.monotonic()\n",
    "time.sleep(0.2)\n",
    "end=time.monotonic()\n",
    "print(\"начало в : \",round(start,2))\n",
    "print(\"конец в :\",round(end,2))\n",
    "print (\"пауза была :\" , round(end-start,2), \" c\")"
   ]
  },
  {
   "cell_type": "markdown",
   "metadata": {},
   "source": [
    "В примере была использована одан из наиболее часто встречающихся функций модуля time - sleep(), которая выполняет задержку исполнения кода на переданное число секунд"
   ]
  },
  {
   "cell_type": "code",
   "execution_count": 5,
   "metadata": {},
   "outputs": [
    {
     "name": "stdout",
     "output_type": "stream",
     "text": [
      "15:16:35\n",
      "Задержка...\n",
      "Текущее время.\n",
      "15:16:37\n"
     ]
    }
   ],
   "source": [
    "print(time.strftime(\"%X\",time.localtime()))\n",
    "print('Задержка...')\n",
    "time.sleep(2)\n",
    "print('Текущее время.')\n",
    "print(time.strftime(\"%X\",time.localtime()))"
   ]
  },
  {
   "cell_type": "markdown",
   "metadata": {},
   "source": [
    "Здесь %X - элемент форматирования функции преобразования представления даты strftime(), возвращающий только компоненты \"час\", \"минута\", \"секунда\". Таких спецификаторов более 20 (https://docs.python.org/3/library/time.html#time.strftime), например:\n",
    "\n",
    "    %Y — год [0001,…, 2019, 2020,…, 9999]\n",
    "    %m — месяц [01, 02, …, 11, 12]\n",
    "    %d — день [01, 02, …, 30, 31]\n",
    "    %H — час [00, 01, …, 22, 23\n",
    "    %M — минута [00, 01, …, 58, 59]\n",
    "    %S — секунда [00, 01, …, 58, 61]"
   ]
  },
  {
   "cell_type": "markdown",
   "metadata": {},
   "source": [
    "Сделаем программу-напоминалку с помощью функции sleep()"
   ]
  },
  {
   "cell_type": "code",
   "execution_count": 9,
   "metadata": {},
   "outputs": [
    {
     "name": "stdout",
     "output_type": "stream",
     "text": [
      "О чём вам напомнить?\n",
      "поглаь кота\n",
      "Через сколько минут?\n",
      "0.02\n",
      "поглаь кота\n"
     ]
    }
   ],
   "source": [
    "import time\n",
    "print(\"О чём вам напомнить?\")\n",
    "text = str(input())\n",
    "print(\"Через сколько минут?\")\n",
    "alarm = float(input())\n",
    "alarm = alarm * 60\n",
    "time.sleep(alarm)\n",
    "print(text)"
   ]
  },
  {
   "cell_type": "markdown",
   "metadata": {},
   "source": [
    "# Измерение производительности "
   ]
  },
  {
   "cell_type": "markdown",
   "metadata": {},
   "source": [
    "Для тестирования производительности perf_counter() обеспечивает доступ к таймерам с самым высоким дроблением единиц времени для более точного измерения."
   ]
  },
  {
   "cell_type": "markdown",
   "metadata": {},
   "source": [
    "Контрольная точка возвращаемого значения не определена, поэтому допустима только разница между результатами последовательных вызовов. В промежутке между этим мы можем использовать time.sleep () "
   ]
  },
  {
   "cell_type": "code",
   "execution_count": 10,
   "metadata": {},
   "outputs": [
    {
     "name": "stdout",
     "output_type": "stream",
     "text": [
      "10\n",
      "96855\n",
      "Начало = 79.8941278 \n",
      "Конец = 79.8943206\n",
      "Процесс занял: 0.00019279999999355368 секунд\n"
     ]
    }
   ],
   "source": [
    "from time import perf_counter\n",
    "n=int(input())\n",
    "t1_start = perf_counter() \n",
    "print(n+96845) \n",
    "t1_stop = perf_counter()\n",
    "print(\"Начало =\", t1_start,\"\\nКонец =\",t1_stop) \n",
    "print(\"Процесс занял:\",t1_stop-t1_start,\"секунд\") \n"
   ]
  },
  {
   "cell_type": "markdown",
   "metadata": {},
   "source": [
    "# Компоненты времени"
   ]
  },
  {
   "cell_type": "markdown",
   "metadata": {},
   "source": [
    "Модуль time определяет класс struct_time, который хранит значение даты и времени, разбивая их на отельные компоненты для упрощения обращения к ним."
   ]
  },
  {
   "cell_type": "markdown",
   "metadata": {},
   "source": [
    "gmtime()-  возвращает текущее время по UTC\n",
    "localtime() - возвращает время по установленном часовому поясу"
   ]
  },
  {
   "cell_type": "code",
   "execution_count": 11,
   "metadata": {},
   "outputs": [
    {
     "name": "stdout",
     "output_type": "stream",
     "text": [
      "по UTC:\n",
      "Год:  2020\n",
      "Месяц:  9\n",
      "День:  29\n",
      "Час:  10\n",
      "Минуты:  17\n",
      "Секунды:  40\n",
      "День в неделе:  1\n",
      "День в году:  273\n",
      "Летнее время:  0\n",
      "\n",
      "Местное время:\n",
      "Год:  2020\n",
      "Месяц:  9\n",
      "День:  29\n",
      "Час:  15\n",
      "Минуты:  17\n",
      "Секунды:  40\n",
      "День в неделе:  1\n",
      "День в году:  273\n",
      "Летнее время:  0\n"
     ]
    }
   ],
   "source": [
    "def structtime(s):\n",
    "    print (\"Год: \", s.tm_year)\n",
    "    print(\"Месяц: \", s.tm_mon)\n",
    "    print(\"День: \",s.tm_mday)\n",
    "    print(\"Час: \",s.tm_hour)\n",
    "    print(\"Минуты: \", s.tm_min)\n",
    "    print(\"Секунды: \",s.tm_sec)\n",
    "    print(\"День в неделе: \", s.tm_wday)\n",
    "    print(\"День в году: \",s.tm_yday)\n",
    "    print(\"Летнее время: \",s.tm_isdst)\n",
    "print(\"по UTC:\")\n",
    "structtime(time.gmtime())\n",
    "print('\\nМестное время:')\n",
    "structtime(time.localtime())\n"
   ]
  },
  {
   "cell_type": "markdown",
   "metadata": {},
   "source": [
    "# Форматирование значений времени"
   ]
  },
  {
   "cell_type": "markdown",
   "metadata": {},
   "source": [
    "Функции strptime() и strftime() преобразовывают объект struct_time  в строковое представление значений времени  и наоборот."
   ]
  },
  {
   "cell_type": "markdown",
   "metadata": {},
   "source": [
    "Преобразуем текущее время из строкового представления в экземпляр struct_time и наоборот в строку"
   ]
  },
  {
   "cell_type": "code",
   "execution_count": 12,
   "metadata": {},
   "outputs": [
    {
     "name": "stdout",
     "output_type": "stream",
     "text": [
      "Tue Sep 29 15:17:44 2020\n",
      "\n",
      "Разбили:\n",
      "Год:  2020\n",
      "Месяц:  9\n",
      "День:  29\n",
      "Час:  15\n",
      "Минуты:  17\n",
      "Секунды:  44\n",
      "День в неделе:  1\n",
      "День в году:  273\n",
      "Летнее время:  -1\n",
      "\n",
      "Обратно в строку:\n",
      "Tue Sep 29 15:17:44 2020\n"
     ]
    }
   ],
   "source": [
    "import time\n",
    "\n",
    "def structtime(s):\n",
    "    print (\"Год: \", s.tm_year)\n",
    "    print(\"Месяц: \", s.tm_mon)\n",
    "    print(\"День: \",s.tm_mday)\n",
    "    print(\"Час: \",s.tm_hour)\n",
    "    print(\"Минуты: \", s.tm_min)\n",
    "    print(\"Секунды: \",s.tm_sec)\n",
    "    print(\"День в неделе: \", s.tm_wday)\n",
    "    print(\"День в году: \",s.tm_yday)\n",
    "    print(\"Летнее время: \",s.tm_isdst)\n",
    "\n",
    "print(time.ctime())\n",
    "print(\"\\nРазбили:\")\n",
    "structured=time.strptime(time.ctime())\n",
    "structtime(structured)\n",
    "\n",
    "print('\\nОбратно в строку:')\n",
    "print(time.strftime('%a %b %d %H:%M:%S %Y',structured))\n",
    "\n"
   ]
  },
  {
   "cell_type": "markdown",
   "metadata": {},
   "source": [
    "Функция time.asctime() используется для преобразования кортежа или объекта time.struct_time представляющего время в строку следующего вида:"
   ]
  },
  {
   "cell_type": "code",
   "execution_count": 13,
   "metadata": {},
   "outputs": [
    {
     "data": {
      "text/plain": [
       "'Tue Sep 29 15:17:46 2020'"
      ]
     },
     "execution_count": 13,
     "metadata": {},
     "output_type": "execute_result"
    }
   ],
   "source": [
    "import time\n",
    "time.asctime()"
   ]
  },
  {
   "cell_type": "markdown",
   "metadata": {},
   "source": [
    "## Самостоятельное задание"
   ]
  },
  {
   "cell_type": "markdown",
   "metadata": {},
   "source": [
    "С помощью функций модуля time создать секундомер, началом и концом отсчета которого будет ввод любого символа пользователем с клавиатуры."
   ]
  }
 ],
 "metadata": {
  "kernelspec": {
   "display_name": "Python 3",
   "language": "python",
   "name": "python3"
  },
  "language_info": {
   "codemirror_mode": {
    "name": "ipython",
    "version": 3
   },
   "file_extension": ".py",
   "mimetype": "text/x-python",
   "name": "python",
   "nbconvert_exporter": "python",
   "pygments_lexer": "ipython3",
   "version": "3.7.4"
  }
 },
 "nbformat": 4,
 "nbformat_minor": 4
}
