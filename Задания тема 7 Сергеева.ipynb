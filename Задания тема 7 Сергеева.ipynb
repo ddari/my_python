{
 "cells": [
  {
   "cell_type": "markdown",
   "metadata": {},
   "source": [
    "\n",
    "# Задания из темы 7\n",
    "1.Как должен выглядить код, если надо округлить число до двух знаков после запятой в сторону повышения, если после него идет число 5 или выше.\n"
   ]
  },
  {
   "cell_type": "code",
   "execution_count": 22,
   "metadata": {},
   "outputs": [
    {
     "name": "stdout",
     "output_type": "stream",
     "text": [
      "5.69\n"
     ]
    }
   ],
   "source": [
    "from decimal import Decimal, ROUND_HALF_UP\n",
    "a = Decimal(\"5.685\")\n",
    "print(a.quantize(Decimal(\"1.00\"), ROUND_HALF_UP)) \n",
    " "
   ]
  },
  {
   "cell_type": "markdown",
   "metadata": {},
   "source": [
    "2.Перевести 2/5 в вещественное число и 7,5 в тип Fraction ."
   ]
  },
  {
   "cell_type": "code",
   "execution_count": 21,
   "metadata": {},
   "outputs": [
    {
     "name": "stdout",
     "output_type": "stream",
     "text": [
      "2/5 в вещественное число:  0.4\n",
      "7.5 в тип Franction:  (15, 2)\n"
     ]
    }
   ],
   "source": [
    "from fractions import Fraction\n",
    "b=7.5\n",
    "c=float(Fraction(2,5))\n",
    "##d=Fraction.from_float(b)\n",
    "d=(7.5).as_integer_ratio()\n",
    "print(\"2/5 в вещественное число: \",c)\n",
    "print(\"7.5 в тип Franction: \", d)\n"
   ]
  },
  {
   "cell_type": "markdown",
   "metadata": {},
   "source": [
    "3.Додо Пицца предлагает: одну пиццу диаметром 25 см за 245 р. одну пиццу диаметром 35 см за 785 р. набор из трех пицц диаметром 30 см за 999 р.\n",
    "Что взять выгоднее(по соотношению цена за кв.см)?"
   ]
  },
  {
   "cell_type": "code",
   "execution_count": 29,
   "metadata": {},
   "outputs": [
    {
     "name": "stdout",
     "output_type": "stream",
     "text": [
      "Возьмем три за 999!\n"
     ]
    }
   ],
   "source": [
    "import math\n",
    "opt1=245/(1/4*math.pi*pow(25,2))\n",
    "opt2=785/(1/4*math.pi*pow(35,2))\n",
    "opt3=999/(1/4*math.pi*pow(30,2)*3)\n",
    "if min(opt1,opt2,opt3)==opt1:\n",
    "    print(\"Берем первый вариант\")\n",
    "elif min(opt1,opt2,opt3)==opt2:\n",
    "    print(\"Берем второй вариант\")\n",
    "else : \n",
    "    print(\"Возьмем три за 999!\")"
   ]
  },
  {
   "cell_type": "markdown",
   "metadata": {},
   "source": [
    "4.Проанализировать оценки в брс за четвертый семместр:\n",
    "\n",
    "Какой средний балл по всем предметам? Каких оценок больше? Чему равна медиана оценок за все предметы? Чему равна медиана оценок за ин.яз? (можно не парсить сайт с брс пожалуйста...:( )"
   ]
  },
  {
   "cell_type": "code",
   "execution_count": 24,
   "metadata": {},
   "outputs": [
    {
     "name": "stdout",
     "output_type": "stream",
     "text": [
      "Средний балл 4.875 \n",
      "Больше всего оценок:  5 \n",
      "Медиана оценок за англ. яз.:  4\n"
     ]
    }
   ],
   "source": [
    "import statistics\n",
    "data = [5,5,4,5,5,5,5,5]\n",
    "en=[5,5,5,5,5,4,4,4,4,4,4,3,3]\n",
    "\n",
    "print(\"Средний балл\",statistics.mean(data),\n",
    "     \"\\nБольше всего оценок: \",statistics.mode(data),\n",
    "     \"\\nМедиана оценок за англ. яз.: \",statistics.median(en))\n"
   ]
  },
  {
   "cell_type": "code",
   "execution_count": null,
   "metadata": {},
   "outputs": [],
   "source": []
  }
 ],
 "metadata": {
  "kernelspec": {
   "display_name": "Python 3",
   "language": "python",
   "name": "python3"
  },
  "language_info": {
   "codemirror_mode": {
    "name": "ipython",
    "version": 3
   },
   "file_extension": ".py",
   "mimetype": "text/x-python",
   "name": "python",
   "nbconvert_exporter": "python",
   "pygments_lexer": "ipython3",
   "version": "3.7.4"
  }
 },
 "nbformat": 4,
 "nbformat_minor": 4
}
